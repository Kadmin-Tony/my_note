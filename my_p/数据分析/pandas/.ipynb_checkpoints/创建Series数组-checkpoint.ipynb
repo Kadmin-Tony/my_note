{
 "cells": [
  {
   "cell_type": "code",
   "execution_count": 4,
   "id": "0db77f8d",
   "metadata": {},
   "outputs": [],
   "source": [
    "import pandas as pd"
   ]
  },
  {
   "cell_type": "markdown",
   "id": "5490c6d8",
   "metadata": {},
   "source": [
    "# 创建数组"
   ]
  },
  {
   "cell_type": "code",
   "execution_count": 2,
   "id": "7e19c289",
   "metadata": {},
   "outputs": [
    {
     "data": {
      "text/plain": [
       "0     1\n",
       "1     2\n",
       "2    33\n",
       "3    44\n",
       "4    11\n",
       "dtype: int64"
      ]
     },
     "execution_count": 2,
     "metadata": {},
     "output_type": "execute_result"
    }
   ],
   "source": [
    "pd.Series([1, 2, 33, 44, 11])"
   ]
  },
  {
   "cell_type": "markdown",
   "id": "d2ad12c1",
   "metadata": {},
   "source": [
    "# 使用index自定义索引"
   ]
  },
  {
   "cell_type": "code",
   "execution_count": 7,
   "id": "d030a2ea",
   "metadata": {},
   "outputs": [
    {
     "data": {
      "text/plain": [
       "a     1\n",
       "b    23\n",
       "c    45\n",
       "d    32\n",
       "e    21\n",
       "dtype: int64"
      ]
     },
     "execution_count": 7,
     "metadata": {},
     "output_type": "execute_result"
    }
   ],
   "source": [
    "a = pd.Series([1, 23, 45, 32, 21], index = list(\"abcde\"))\n",
    "a"
   ]
  },
  {
   "cell_type": "markdown",
   "id": "6e1a0c19",
   "metadata": {},
   "source": [
    "# 使用字典创建数组"
   ]
  },
  {
   "cell_type": "code",
   "execution_count": 6,
   "id": "dc9c6eae",
   "metadata": {},
   "outputs": [
    {
     "data": {
      "text/plain": [
       "name         Kadmin\n",
       "age              19\n",
       "gender    hilicoper\n",
       "dtype: object"
      ]
     },
     "execution_count": 6,
     "metadata": {},
     "output_type": "execute_result"
    }
   ],
   "source": [
    "d = {\"name\":\"Kadmin\", \"age\":19, \"gender\":\"hilicoper\"}\n",
    "pd.Series(d)"
   ]
  },
  {
   "cell_type": "markdown",
   "id": "5aaba1ed",
   "metadata": {},
   "source": [
    "# 更改dtype"
   ]
  },
  {
   "cell_type": "code",
   "execution_count": 9,
   "id": "b166dce1",
   "metadata": {},
   "outputs": [
    {
     "data": {
      "text/plain": [
       "a     1.0\n",
       "b    23.0\n",
       "c    45.0\n",
       "d    32.0\n",
       "e    21.0\n",
       "dtype: float64"
      ]
     },
     "execution_count": 9,
     "metadata": {},
     "output_type": "execute_result"
    }
   ],
   "source": [
    "a.astype(float)"
   ]
  },
  {
   "cell_type": "markdown",
   "id": "655d141a",
   "metadata": {},
   "source": [
    "# 索引"
   ]
  },
  {
   "cell_type": "code",
   "execution_count": 15,
   "id": "8a86e2d2",
   "metadata": {},
   "outputs": [
    {
     "data": {
      "text/plain": [
       "1"
      ]
     },
     "execution_count": 15,
     "metadata": {},
     "output_type": "execute_result"
    }
   ],
   "source": [
    "a[\"a\"]"
   ]
  },
  {
   "cell_type": "code",
   "execution_count": 16,
   "id": "b798f0b1",
   "metadata": {},
   "outputs": [
    {
     "data": {
      "text/plain": [
       "1"
      ]
     },
     "execution_count": 16,
     "metadata": {},
     "output_type": "execute_result"
    }
   ],
   "source": [
    "a[0]"
   ]
  },
  {
   "cell_type": "code",
   "execution_count": 19,
   "id": "3f62158f",
   "metadata": {},
   "outputs": [
    {
     "data": {
      "text/plain": [
       "c    45\n",
       "d    32\n",
       "dtype: int64"
      ]
     },
     "execution_count": 19,
     "metadata": {},
     "output_type": "execute_result"
    }
   ],
   "source": [
    "a[2:4]"
   ]
  },
  {
   "cell_type": "markdown",
   "id": "9e535c94",
   "metadata": {},
   "source": [
    "## 连续索引多个"
   ]
  },
  {
   "cell_type": "code",
   "execution_count": 21,
   "id": "934d118f",
   "metadata": {},
   "outputs": [
    {
     "data": {
      "text/plain": [
       "b    23\n",
       "d    32\n",
       "dtype: int64"
      ]
     },
     "execution_count": 21,
     "metadata": {},
     "output_type": "execute_result"
    }
   ],
   "source": [
    "a[[1, 3]]"
   ]
  },
  {
   "cell_type": "markdown",
   "id": "7a7a08e4",
   "metadata": {},
   "source": [
    "## 选择性索引"
   ]
  },
  {
   "cell_type": "code",
   "execution_count": 20,
   "id": "3f0eeaec",
   "metadata": {},
   "outputs": [
    {
     "data": {
      "text/plain": [
       "b    23\n",
       "c    45\n",
       "d    32\n",
       "e    21\n",
       "dtype: int64"
      ]
     },
     "execution_count": 20,
     "metadata": {},
     "output_type": "execute_result"
    }
   ],
   "source": [
    "a[a>10]"
   ]
  },
  {
   "cell_type": "markdown",
   "id": "2da63146",
   "metadata": {},
   "source": [
    "# 遍历"
   ]
  },
  {
   "cell_type": "code",
   "execution_count": 23,
   "id": "5252e418",
   "metadata": {},
   "outputs": [
    {
     "name": "stdout",
     "output_type": "stream",
     "text": [
      "1\n",
      "23\n",
      "45\n",
      "32\n",
      "21\n"
     ]
    }
   ],
   "source": [
    "for i in a.values:\n",
    "    print(f\"{i}\")"
   ]
  },
  {
   "cell_type": "code",
   "execution_count": 25,
   "id": "c3de3bb8",
   "metadata": {},
   "outputs": [
    {
     "name": "stdout",
     "output_type": "stream",
     "text": [
      "a\n",
      "b\n",
      "c\n",
      "d\n",
      "e\n"
     ]
    }
   ],
   "source": [
    "for i in a.index:\n",
    "    print(f\"{i}\")"
   ]
  },
  {
   "cell_type": "code",
   "execution_count": null,
   "id": "a986f5f8",
   "metadata": {},
   "outputs": [],
   "source": []
  }
 ],
 "metadata": {
  "kernelspec": {
   "display_name": "Python 3 (ipykernel)",
   "language": "python",
   "name": "python3"
  },
  "language_info": {
   "codemirror_mode": {
    "name": "ipython",
    "version": 3
   },
   "file_extension": ".py",
   "mimetype": "text/x-python",
   "name": "python",
   "nbconvert_exporter": "python",
   "pygments_lexer": "ipython3",
   "version": "3.8.10"
  }
 },
 "nbformat": 4,
 "nbformat_minor": 5
}
